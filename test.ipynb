{
 "cells": [
  {
   "cell_type": "code",
   "execution_count": 3,
   "metadata": {},
   "outputs": [],
   "source": [
    "import socket\n",
    "\n",
    "sock = socket.socket(socket.AF_INET, socket.SOCK_DGRAM)\n",
    "sock.bind((\"0.0.0.0\", 54321))\n",
    "\n",
    "# 清空缓冲区\n",
    "sock.settimeout(0.1)  # 设置超时时间，防止阻塞\n",
    "try:\n",
    "    while True:\n",
    "        data, addr = sock.recvfrom(1024)  # 接收遗留数据\n",
    "        print(\"recv\", data, \"from\", addr)\n",
    "except socket.timeout:\n",
    "    pass  # 超时退出，无遗留数据\n"
   ]
  }
 ],
 "metadata": {
  "kernelspec": {
   "display_name": "speit",
   "language": "python",
   "name": "python3"
  },
  "language_info": {
   "codemirror_mode": {
    "name": "ipython",
    "version": 3
   },
   "file_extension": ".py",
   "mimetype": "text/x-python",
   "name": "python",
   "nbconvert_exporter": "python",
   "pygments_lexer": "ipython3",
   "version": "3.11.5"
  }
 },
 "nbformat": 4,
 "nbformat_minor": 2
}
